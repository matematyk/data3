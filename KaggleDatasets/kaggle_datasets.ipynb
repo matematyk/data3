{
  "nbformat": 4,
  "nbformat_minor": 0,
  "metadata": {
    "colab": {
      "name": "kaggle_datasets.ipynb",
      "provenance": []
    },
    "kernelspec": {
      "name": "python3",
      "display_name": "Python 3"
    },
    "language_info": {
      "name": "python"
    }
  },
  "cells": [
    {
      "cell_type": "code",
      "metadata": {
        "id": "uc6QwF35quxk"
      },
      "source": [
        "import pandas as pd\n",
        "import seaborn as sns\n",
        "from google.colab import drive"
      ],
      "execution_count": null,
      "outputs": []
    },
    {
      "cell_type": "markdown",
      "metadata": {
        "id": "AzpvnaYgCIgv"
      },
      "source": [
        "## Zbiory danych kaggle"
      ]
    },
    {
      "cell_type": "markdown",
      "metadata": {
        "id": "1yB2HNHeCQq2"
      },
      "source": [
        "W tym zeszycie będziemy omawiać zestawienie zbiorów danych dostępnych na platformie kaggle.\n",
        "\n",
        "Dane zostały udostępnione na podstawie licencji CC0 na [tej stronie kaggle](https://www.kaggle.com/canggih/voted-kaggle-dataset) i wstępnie przez nas przygotowane.\n",
        "\n",
        "Zapoznajmy się z materiałem dostępnym w notebooku i na podstawie instrukcji przygotujmy dane, które będą potrzebne podczas zajęć.\n",
        "\n",
        "**Uwaga.** Wracając do dokumentu, pamiętaj o ponownym wywołaniu komórek z kodem."
      ]
    },
    {
      "cell_type": "markdown",
      "metadata": {
        "id": "B3qm2gFADA5s"
      },
      "source": [
        "### Zawartość zbioru danych"
      ]
    },
    {
      "cell_type": "markdown",
      "metadata": {
        "id": "AqtLmjcsDEAn"
      },
      "source": [
        "W zbiorze znajdują się informacje o:\n",
        "\n",
        "*   **Title** - nazwie zbioru danych,\n",
        "*   **Data Type** - formie, w jakiej zbiór został udostępniony,\n",
        "*   **Licence** - licencji na podstawie, której dopuszczone jest korzystanie ze zbioru,\n",
        "*   **Votes** - liczbie głosów oddanych na zbiór,\n",
        "*   **Views** - liczbie wyświetleń zbioru,\n",
        "*   **Downloads** - liczbie pobrań zbioru,\n",
        "*   **Kernels** - liczbie materiałów stworzonych w oparciu o zbiór,\n",
        "*   **Topics** - liczbie tematów.\n",
        "\n",
        "\n",
        "\n",
        "\n",
        "\n"
      ]
    },
    {
      "cell_type": "markdown",
      "metadata": {
        "id": "jKIb9x8JEkFt"
      },
      "source": [
        "Potrzebne nam dane zostały udostępnione wraz z dokumentem - poniższy kod importuje plik."
      ]
    },
    {
      "cell_type": "code",
      "metadata": {
        "id": "wIFONcDtq_z0"
      },
      "source": [
        "drive.mount('/content/drive')"
      ],
      "execution_count": null,
      "outputs": []
    },
    {
      "cell_type": "code",
      "metadata": {
        "id": "-f0W5UOrrJDE"
      },
      "source": [
        "kaggle = pd.read_csv('kaggle-ds.csv')\n",
        "kaggle"
      ],
      "execution_count": null,
      "outputs": []
    },
    {
      "cell_type": "markdown",
      "metadata": {
        "id": "UX9KZ333E5Jn"
      },
      "source": [
        "## Przygotowanie zeszytu"
      ]
    },
    {
      "cell_type": "markdown",
      "metadata": {
        "id": "838icC8nE7jS"
      },
      "source": [
        "Na początku chcemy upewnić się, że dane zostały poprawnie rozpoznane i dokonać potrzebnych konwersji.\n",
        "\n",
        "Na podstawie podglądu danych powyżej spodziewamy się, że pierwsza kolumna zawiera informacje tekstowe pozwalające na odróżnienie poszczególnych zbiorów danych. W przypadku kolumn **Data Type** i **Licence** spodziewamy się, że przechowują w postaci tekstowej informacje o kategoriach.\n",
        "\n",
        "Pozostałe kolumny zakładamy, że są kolumnami numerycznymi. Sprawdźmy jak faktycznie wyglądają dane w zestawie."
      ]
    },
    {
      "cell_type": "markdown",
      "metadata": {
        "id": "NjOCV1c9FlGc"
      },
      "source": [
        "### Sprawdzenie typów danych"
      ]
    },
    {
      "cell_type": "markdown",
      "metadata": {
        "id": "zFdrjYNFFq8p"
      },
      "source": [
        "Poniżej potrzebujemy wykonać dołączone instrukcje, aby otrzymać ramki danych wykorzystywane na zajęciach."
      ]
    },
    {
      "cell_type": "markdown",
      "metadata": {
        "id": "W9ibgSzwFrne"
      },
      "source": [
        "Na początek sprawdźmy, jak zostały rozpoznane dane podczas importu."
      ]
    },
    {
      "cell_type": "code",
      "metadata": {
        "id": "6hdRbU7FFy9x"
      },
      "source": [
        "kaggle.dtypes"
      ],
      "execution_count": null,
      "outputs": []
    },
    {
      "cell_type": "markdown",
      "metadata": {
        "id": "cMh7sy6MF9Z8"
      },
      "source": [
        "Określmy, czy w danych znajdują się rekordy, dla których brakuje informacji w którejkolwiek z kolumn."
      ]
    },
    {
      "cell_type": "code",
      "metadata": {
        "id": "B18mfahyGALW"
      },
      "source": [
        "\"complete records: \" + str(len(kaggle.dropna(how=\"any\"))) + \"; total records: \" + str(len(kaggle))"
      ],
      "execution_count": null,
      "outputs": []
    },
    {
      "cell_type": "markdown",
      "metadata": {
        "id": "CwfJjex4Gv2k"
      },
      "source": [
        "## Konwersja typów zbiorów danych"
      ]
    },
    {
      "cell_type": "markdown",
      "metadata": {
        "id": "NvhgZgZMG8wB"
      },
      "source": [
        "Przyjrzyjmy się informacjom dotyczącym typów zbiorów danych w kolumnie **Data Type**."
      ]
    },
    {
      "cell_type": "code",
      "metadata": {
        "id": "rxOQSpR6HEZY"
      },
      "source": [
        "kaggle[\"Data Type\"].value_counts()"
      ],
      "execution_count": null,
      "outputs": []
    },
    {
      "cell_type": "markdown",
      "metadata": {
        "id": "Q4Xxx5gYHYTK"
      },
      "source": [
        "W tym przypadku jedynie rozpoznamy typ danych jako kategoryczny."
      ]
    },
    {
      "cell_type": "code",
      "metadata": {
        "id": "c3yOdczQHZNx"
      },
      "source": [
        "kaggle[\"Data Type\"] = kaggle[\"Data Type\"].astype(\"category\")"
      ],
      "execution_count": null,
      "outputs": []
    },
    {
      "cell_type": "markdown",
      "metadata": {
        "id": "9o5IEgEjHmtu"
      },
      "source": [
        "### Konwersja licencji do kategorii"
      ]
    },
    {
      "cell_type": "markdown",
      "metadata": {
        "id": "MaFNCGWLHrcs"
      },
      "source": [
        "W następnej kolejności spójrzmy, jakie typy licencji występują w kolumnie **Licence**."
      ]
    },
    {
      "cell_type": "code",
      "metadata": {
        "id": "qC3nk52JH0_a"
      },
      "source": [
        "kaggle[\"License\"].value_counts()"
      ],
      "execution_count": null,
      "outputs": []
    },
    {
      "cell_type": "markdown",
      "metadata": {
        "id": "XlhEEvKbH_PN"
      },
      "source": [
        "Tu również wystarczy nam, jeśli dane zostaną rozpozane jako kategoria."
      ]
    },
    {
      "cell_type": "code",
      "metadata": {
        "id": "sFjil1OaIDga"
      },
      "source": [
        "kaggle[\"License\"] = kaggle[\"License\"].astype(\"category\")"
      ],
      "execution_count": null,
      "outputs": []
    },
    {
      "cell_type": "markdown",
      "metadata": {
        "id": "qiGhLtmZIRf2"
      },
      "source": [
        "### Analiza zmiennych numerycznych"
      ]
    },
    {
      "cell_type": "markdown",
      "metadata": {
        "id": "ml3UmKNDIUc2"
      },
      "source": [
        "Poświęćmy jeszcze chwilę na przegląd podstawowych statystyk dla zmiennych numerycznych."
      ]
    },
    {
      "cell_type": "code",
      "metadata": {
        "id": "lp0sn8TeIdrp"
      },
      "source": [
        "kaggle.describe()"
      ],
      "execution_count": null,
      "outputs": []
    },
    {
      "cell_type": "markdown",
      "metadata": {
        "id": "RKbzXg8PJSqX"
      },
      "source": [
        "Zauważmy, że we wszystkich przypadkach obserwujemy wielokrotnie wyższe wartości maksymalne od wartości średnich, jednocześnie w przypadku wszystkich statystyk z wyjątkiem **Topics** odchylenie standardowe wielokrotnie przekracza wielkość średniej.\n",
        "\n",
        "Spodziewamy się, że w tym zestawieniu znajdują się zbiory znacząco odstające od większości rekordów."
      ]
    },
    {
      "cell_type": "markdown",
      "metadata": {
        "id": "ZnCm8salFxMj"
      },
      "source": [
        "## Zadania"
      ]
    }
  ]
}
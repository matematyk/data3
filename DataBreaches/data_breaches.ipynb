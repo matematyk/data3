{
  "nbformat": 4,
  "nbformat_minor": 0,
  "metadata": {
    "colab": {
      "name": "data breaches.ipynb",
      "provenance": []
    },
    "kernelspec": {
      "name": "python3",
      "display_name": "Python 3"
    },
    "language_info": {
      "name": "python"
    }
  },
  "cells": [
    {
      "cell_type": "code",
      "metadata": {
        "id": "Z4Ihdok4A09f"
      },
      "source": [
        "import pandas as pd\n",
        "import seaborn as sns\n",
        "from google.colab import drive"
      ],
      "execution_count": null,
      "outputs": []
    },
    {
      "cell_type": "markdown",
      "metadata": {
        "id": "lmfoUO5JRLk_"
      },
      "source": [
        "## Wycieki danych"
      ]
    },
    {
      "cell_type": "markdown",
      "metadata": {
        "id": "iYfk2YuXA3Qh"
      },
      "source": [
        "W tym zeszycie będziemy omawiać informacje na temat największych wycieków danych odnotowanych w latach 2004-2021.\n",
        "\n",
        "Dane zostały udostępnione na podstawie licencji CC0 na [tej stronie kaggle](https://www.kaggle.com/hishaamarmghan/list-of-top-data-breaches-2004-2021) i wstępnie przez nas przygotowane.\n",
        "\n",
        "Zapoznajmy się z materiałem dostępnym w notebooku i na podstawie instrukcji przygotujmy dane, które będą potrzebne podczas zajęć.\n",
        "\n",
        "**Uwaga.** Wracając do dokumentu, pamiętaj o ponownym wywołaniu komórek z kodem."
      ]
    },
    {
      "cell_type": "markdown",
      "metadata": {
        "id": "6OXlgUUqCbly"
      },
      "source": [
        "### Zawartość zbioru danych"
      ]
    },
    {
      "cell_type": "markdown",
      "metadata": {
        "id": "pbzImPwlRdag"
      },
      "source": [
        "W zbiorze znajdują się informacje o tym:\n",
        "\n",
        "* **Year** - w którym roku doszło do wycieku danych\n",
        "* **Organization type** - do jakiego sektora należała pokrzywdzona organizacja\n",
        "* **Method** - w wyniku jakiego zdarzenia doszło do wycieku.\n",
        "* **Records** - ilu pozycji dotyczył wyciek\n",
        "* **Count of Breaches** - do ilu wycieków doszło."
      ]
    },
    {
      "cell_type": "markdown",
      "metadata": {
        "id": "7WuN8gC3RjGA"
      },
      "source": [
        "Potrzebne nam dane zostały udostępnione wraz z dokumentem - poniższy kod importuje plik."
      ]
    },
    {
      "cell_type": "code",
      "metadata": {
        "id": "hImkcB56Ccj5"
      },
      "source": [
        "drive.mount('/content/drive')"
      ],
      "execution_count": null,
      "outputs": []
    },
    {
      "cell_type": "code",
      "metadata": {
        "id": "AtFURsSICndY"
      },
      "source": [
        "data_breaches = pd.read_csv('/content/drive/My Drive/Vis/Data Breaches/data_breaches.csv')\n",
        "data_breaches"
      ],
      "execution_count": null,
      "outputs": []
    },
    {
      "cell_type": "markdown",
      "metadata": {
        "id": "qXtwy86UTE6Q"
      },
      "source": [
        "## Przygotowanie zeszytu"
      ]
    },
    {
      "cell_type": "markdown",
      "metadata": {
        "id": "mkIbeq1MTQca"
      },
      "source": [
        "Na początku chcemy upewnić się, że dane zostały poprawnie rozpoznane i dokonać potrzebnych konwersji.\n",
        "\n",
        "Na podstawie podglądu danych powyżej spodziewamy się, że pierwsza kolumna zawiera liczby całkowite, kolejne dwie zawierają dane w postaci tekstowej i odpowiadają dwóm rodzajom kategorii, obok mamy liczby rekordów w postaci numerycznej, na końcu ponownie znajduje się liczba całkowita odpowiadająca liczbie wycieków."
      ]
    },
    {
      "cell_type": "markdown",
      "metadata": {
        "id": "KS6QBIH6UQsy"
      },
      "source": [
        "#### Sprawdzenie typów danych"
      ]
    },
    {
      "cell_type": "markdown",
      "metadata": {
        "id": "GZxznbsIUVgr"
      },
      "source": [
        "Poniżej potrzebujemy wykonać dołączone instrukcje, aby otrzymać ramki danych wykorzystywane na zajęciach."
      ]
    },
    {
      "cell_type": "markdown",
      "metadata": {
        "id": "71FAWEDTUdT9"
      },
      "source": [
        "Na początek sprawdźmy jak zostały rozpoznane dane podczas importu."
      ]
    },
    {
      "cell_type": "code",
      "metadata": {
        "id": "RNrZU9fDUj7M"
      },
      "source": [
        "data_breaches.dtypes"
      ],
      "execution_count": null,
      "outputs": []
    },
    {
      "cell_type": "markdown",
      "metadata": {
        "id": "fTOjsrLSVX4I"
      },
      "source": [
        "Określmy, czy w danych znajdują się rekordy, dla których brakuje informacji w którejkolwiek z kolumn."
      ]
    },
    {
      "cell_type": "code",
      "metadata": {
        "id": "WL8ioEjUVaw4"
      },
      "source": [
        "\"complete records: \" + str(len(data_breaches.dropna(how=\"any\"))) + \"; total records: \" + str(len(data_breaches))"
      ],
      "execution_count": null,
      "outputs": []
    },
    {
      "cell_type": "markdown",
      "metadata": {
        "id": "hpzvgionV2eJ"
      },
      "source": [
        "### Konwersja typów organizacji do kategorii"
      ]
    },
    {
      "cell_type": "markdown",
      "metadata": {
        "id": "1Z_3FQftV9Mw"
      },
      "source": [
        "Przyjrzyjmy się informacjom dotyczącym typów pokrzywdzonych organizacji w kolumnie **Organization type**."
      ]
    },
    {
      "cell_type": "code",
      "metadata": {
        "id": "g5JBw3uiWLF_"
      },
      "source": [
        "data_breaches[\"Organization type\"].value_counts()"
      ],
      "execution_count": null,
      "outputs": []
    },
    {
      "cell_type": "markdown",
      "metadata": {
        "id": "gafjJlgSWUml"
      },
      "source": [
        "W tym przypadku jedynie rozpoznamy typ danych jako kategoryczny."
      ]
    },
    {
      "cell_type": "code",
      "metadata": {
        "id": "0Fi5tT4DWb9I"
      },
      "source": [
        "data_breaches[\"Organization type\"] = data_breaches[\"Organization type\"].astype(\"category\")"
      ],
      "execution_count": null,
      "outputs": []
    },
    {
      "cell_type": "markdown",
      "metadata": {
        "id": "ud__K4EuW7ii"
      },
      "source": [
        "### Konwersja metod do kategorii"
      ]
    },
    {
      "cell_type": "markdown",
      "metadata": {
        "id": "Hi0HaBazXFLu"
      },
      "source": [
        "Przyjrzyjmy się informacjom dotyczącym typów pokrzywdzonych organizacji w kolumnie **Method**."
      ]
    },
    {
      "cell_type": "code",
      "metadata": {
        "id": "S8fiH7YnXQNe"
      },
      "source": [
        "data_breaches[\"Method\"].value_counts()"
      ],
      "execution_count": null,
      "outputs": []
    },
    {
      "cell_type": "markdown",
      "metadata": {
        "id": "S8dHYwvWXXcr"
      },
      "source": [
        "Również w tym przypadku jedynynie upewnimy się, że typ danych to Kategoria."
      ]
    },
    {
      "cell_type": "code",
      "metadata": {
        "id": "ZCIacTWNXeib"
      },
      "source": [
        "data_breaches[\"Method\"] = data_breaches[\"Method\"].astype(\"category\")\n",
        "data_breaches.dtypes"
      ],
      "execution_count": null,
      "outputs": []
    },
    {
      "cell_type": "markdown",
      "metadata": {
        "id": "xvtdzocWTCkY"
      },
      "source": [
        "## Zadania"
      ]
    }
  ]
}
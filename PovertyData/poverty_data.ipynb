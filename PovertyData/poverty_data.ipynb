{
  "nbformat": 4,
  "nbformat_minor": 0,
  "metadata": {
    "colab": {
      "name": "poverty data.ipynb",
      "provenance": []
    },
    "kernelspec": {
      "name": "python3",
      "display_name": "Python 3"
    },
    "language_info": {
      "name": "python"
    }
  },
  "cells": [
    {
      "cell_type": "code",
      "metadata": {
        "id": "fUmadwm0ieFu"
      },
      "source": [
        "import pandas as pd\n",
        "import seaborn as sns\n",
        "from google.colab import drive"
      ],
      "execution_count": null,
      "outputs": []
    },
    {
      "cell_type": "markdown",
      "metadata": {
        "id": "M0wKuvKbhRvc"
      },
      "source": [
        "## Statystyki ubóstwa"
      ]
    },
    {
      "cell_type": "markdown",
      "metadata": {
        "id": "0HaUJaozhV7Q"
      },
      "source": [
        "Dane pochodzą ze strony [SDG Tracker](https://sdg-tracker.org/no-poverty), która należy do [Our World in Data](https://ourworldindata.org/).\n",
        "\n",
        "Inicjatywa [SDG Tracker](https://sdg-tracker.org/no-poverty) powstała aby publikować informacje na tematów Celów Zrównoważonego\n",
        "Rozwoju ONZ.\n",
        "\n",
        "To cele globalnego rozwoju przyjęte przez ONZ\n",
        "we wrześniu 2015 roku, które powinny zostać osiągnięte do 2030 roku.\n",
        "\n",
        "Zapoznajmy się z materiałem dostępnym w notebooku i na podstawie instrukcji przygotujmy dane, które będą potrzebne podczas zajęć.\n",
        "\n",
        "**Uwaga.** Wracając do dokumentu, pamiętaj o ponownym wywołaniu komórek z kodem."
      ]
    },
    {
      "cell_type": "markdown",
      "metadata": {
        "id": "SuHMHhxdhuAR"
      },
      "source": [
        "### Zawartość zbioru danych"
      ]
    },
    {
      "cell_type": "markdown",
      "metadata": {
        "id": "GxLr4ix3hxGe"
      },
      "source": [
        "W przypadku tego zbioru danych w zestawieniu znajdziemy informacje o:\n",
        "*   kraju, dla którego podane są statystyki - **Country**,\n",
        "*   trzyliterowego kodu danego kraju - **Code**,\n",
        "*   kontynentu - **Continent**,\n",
        "*   roku, którego dotyczy statystyka - **Year**,\n",
        "*   udziału populacji żyjącego w skrajnym ubóstwie - **Share Extreme Poverty**,\n",
        "*   krajowego wskaźnika ubóstwa - **Poverty Headcount Ratio**,\n",
        "*   wielowymiarowego wskaźnika ubóstwa - **Share Multipoverty**,\n",
        "*   udziału populacji objętej programami ubezpieczeń socjalnych - **SIP Coverage**,\n",
        "*   liczby osób zmarłych, zaginionych i bezpośrednio dotkniętych skutkami naturalnych katastrof w przeliczeniu na 100 000 mieszkańców - **Disasters Deaths and Missings**,\n",
        "*   liczby osób pozbawionych schronienia w wyniku naturalnych katastrof, którzy nie opuścili granic kraju - **Disasters Internally Displaced**,\n",
        "*   liczby osób bezpośrednio dotkniętych skutkami naturalnych katastrof w przeliczeniu na 100 000 mieszkańców - **Disasters Directly Affected**,\n",
        "*   wartości strat w wyniku naturalnych katastrof w ujęciu procentowym w odniesieniu do PKB - **Disasters Direct Economic Loss**,\n",
        "*   udziału wydatków na zdrowie w wydatkach rządowych ogółem - **Gov Expenditure Health**,\n",
        "*   udziału wydatków na edukację w wydatkach rządowych ogółem - **Gov Expenditure Health**.\n",
        "\n",
        "Dane zostały wcześniej przygotowane w taki sposób, by połączyć te informacje dla poszczególnych krajów i lat i połączone z informacją o kontynencie."
      ]
    },
    {
      "cell_type": "markdown",
      "metadata": {
        "id": "xkYHt06Hjq1o"
      },
      "source": [
        "Potrzebne nam dane zostały udostępnione wraz z dokumentem - poniższy kod importuje plik."
      ]
    },
    {
      "cell_type": "code",
      "metadata": {
        "id": "YLSlofduituk"
      },
      "source": [
        "drive.mount('/content/drive')"
      ],
      "execution_count": null,
      "outputs": []
    },
    {
      "cell_type": "code",
      "metadata": {
        "id": "vhJl7Ns5i5E5"
      },
      "source": [
        "poverty_data = pd.read_csv('/content/drive/My Drive/Vis/Poverty Data/poverty_statistics.csv')\n",
        "poverty_data"
      ],
      "execution_count": null,
      "outputs": []
    },
    {
      "cell_type": "markdown",
      "metadata": {
        "id": "JvkmyIdXkP1H"
      },
      "source": [
        "## Przygotowanie zeszytu"
      ]
    },
    {
      "cell_type": "markdown",
      "metadata": {
        "id": "kw2DfXSJkSuV"
      },
      "source": [
        "Na początku potrzebujemy upewnić się, że dane zostały poprawnie rozpoznane i dokonać potrzebych konwersji.\n",
        "\n",
        "Przyglądając się danym w podglądzie wyżej, możemy spodziewać się, że informacja o kontynencie będzie ciekawą daną kategoryczną.\n",
        "\n",
        "W przypadku poszczególnych państw, spodziewamy się znacznej liczby różnych wartości.\n",
        "\n",
        "W przypadku danych numerycznych, potrzebujemy określić, jak często brakuje informacji w zestawie danych, warto również poznać podstawowe informacje statystyczne."
      ]
    },
    {
      "cell_type": "markdown",
      "metadata": {
        "id": "ZQ6eB1KnlR5J"
      },
      "source": [
        "### Sprawdzenie typów danych"
      ]
    },
    {
      "cell_type": "markdown",
      "metadata": {
        "id": "AULs_jP2lU3H"
      },
      "source": [
        "Poniżej potrzebujemy wykonać dołączone instrukcje, aby otrzymać ramki danych wykorzystywane na zajęciach."
      ]
    },
    {
      "cell_type": "markdown",
      "metadata": {
        "id": "RYY8nkixlcqJ"
      },
      "source": [
        "W pierwszej kolejności sprawdźmy, jak zostały rozpoznane dane w poszczególnych kolumnach podczas importu."
      ]
    },
    {
      "cell_type": "code",
      "metadata": {
        "id": "F-WSU7kPlmic"
      },
      "source": [
        "poverty_data.dtypes"
      ],
      "execution_count": null,
      "outputs": []
    },
    {
      "cell_type": "markdown",
      "metadata": {
        "id": "DwU0CQqilu-8"
      },
      "source": [
        "Określmy również, ile spośród wszystkich rekordów posiada kompletne informacje."
      ]
    },
    {
      "cell_type": "code",
      "metadata": {
        "id": "zgbXZRDVl_ty"
      },
      "source": [
        "\"complete records: \" + str(len(poverty_data.dropna(how=\"any\"))) + \"; total records: \" + str(len(poverty_data))"
      ],
      "execution_count": null,
      "outputs": []
    },
    {
      "cell_type": "markdown",
      "metadata": {
        "id": "VZk_OkhVmK8v"
      },
      "source": [
        "W tej sytuacji zastanówmy się, w przypadku jakich kolumn posiadamy najwięcej informacji."
      ]
    },
    {
      "cell_type": "code",
      "metadata": {
        "id": "rRGaUQNxmXWD"
      },
      "source": [
        "poverty_data.isnull().sum()"
      ],
      "execution_count": null,
      "outputs": []
    },
    {
      "cell_type": "markdown",
      "metadata": {
        "id": "T6qm2Y8Omcd9"
      },
      "source": [
        "W związku ze sposobem łączenia danych, dla wszystkich rekordów posiadamy informacje o kraju, kodzie, kontynencie i roku.\n",
        "\n",
        "W przypadku pozostałych statystyk najwięcej danych posiadamy w kolumnie **Share Extreme Poverty**.\n",
        "Większość rekordów nie posiada informacji w kolumnach **Share Multipoverty** i **SIP Coverage**.\n",
        "\n",
        "Następne w kolejności są **Poverty Headcount Ratio** i **Disasters Direct Economic Loss**.\n",
        "\n",
        "W przypadku tych czterech kolumn możemy przypuszczać, że badanie relacji między cechami może być utrudnione - postaramy się w tej sytuacji ustalić zestaw rekordów, w przypadku których jest to uzasadnione."
      ]
    },
    {
      "cell_type": "markdown",
      "metadata": {
        "id": "Hl21igGynaTq"
      },
      "source": [
        "### Identyfikacja państw w zbiorze"
      ]
    },
    {
      "cell_type": "markdown",
      "metadata": {
        "id": "RpOUd97Vo3cu"
      },
      "source": [
        "Zastanówmy się, ilu i jakich państw dotyczy zestawienie."
      ]
    },
    {
      "cell_type": "code",
      "metadata": {
        "id": "C7GsBxOPpBYu"
      },
      "source": [
        "poverty_data[\"Country\"].value_counts()"
      ],
      "execution_count": null,
      "outputs": []
    },
    {
      "cell_type": "markdown",
      "metadata": {
        "id": "a8vGs3-ZpN8B"
      },
      "source": [
        "Posiadamy statystyki dla 213 państw, przy czym dane są zróżnicowane ze względu na konkretne kraje. Mamy państwa, dla których posiadamy pewne dane dla 41 różnych lat, i takie, dla których posiadamy pewne informacje wyłącznie w przypadku jednego roku."
      ]
    },
    {
      "cell_type": "markdown",
      "metadata": {
        "id": "RgJWpmrop3_x"
      },
      "source": [
        "### Konwersja nazw kontynentów na kategorie"
      ]
    },
    {
      "cell_type": "markdown",
      "metadata": {
        "id": "wms97Bkyp-Vn"
      },
      "source": [
        "W przypadku kontynentów mamy pewność, że jest ich stosunkowo niewiele. Możemy niemal natychmiast zamienić w tym przypadku typ danych na kategorie."
      ]
    },
    {
      "cell_type": "code",
      "metadata": {
        "id": "kdxJ-BSwqj1I"
      },
      "source": [
        "poverty_data[\"Continent\"].value_counts()"
      ],
      "execution_count": null,
      "outputs": []
    },
    {
      "cell_type": "code",
      "metadata": {
        "id": "PLM8O9zTqtug"
      },
      "source": [
        "poverty_data[\"Continent\"] = poverty_data[\"Continent\"].astype(\"category\")"
      ],
      "execution_count": null,
      "outputs": []
    },
    {
      "cell_type": "markdown",
      "metadata": {
        "id": "ckWYI8E1rDYc"
      },
      "source": [
        "## Przygotowanie ramek danych"
      ]
    },
    {
      "cell_type": "markdown",
      "metadata": {
        "id": "8JOVxQlSvrtI"
      },
      "source": [
        "#### Analiza wskaźnika programów socjalnych w stosunku do wydatków państwa"
      ]
    },
    {
      "cell_type": "markdown",
      "metadata": {
        "id": "j0jheSYGrI58"
      },
      "source": [
        "Wybierzmy teraz jeden rok, w przypadku którego obserwujemy względnie niewiele brakujących informacji w wybranych kolumnach."
      ]
    },
    {
      "cell_type": "code",
      "metadata": {
        "id": "ds-lgqWaozXf"
      },
      "source": [
        "years_and_nulls = pd.DataFrame(pd.Series(poverty_data[\"Year\"].unique(), name=\"unique year\"))\n",
        "years_and_nulls[\"nulls\"] = years_and_nulls[\"unique year\"].apply(lambda x: poverty_data[(poverty_data[\"Year\"]==x)].isnull().sum().sum())\n",
        "years_and_nulls[\"records\"] = years_and_nulls[\"unique year\"].apply(lambda x: len(poverty_data[(poverty_data[\"Year\"]==x)]))\n",
        "years_and_nulls[\"nulls per record\"] = years_and_nulls[\"nulls\"]/years_and_nulls[\"records\"]\n",
        "years_and_nulls.sort_values(by=\"unique year\")\n",
        "years_and_nulls[years_and_nulls[\"nulls per record\"]==years_and_nulls[\"nulls per record\"].min()]"
      ],
      "execution_count": null,
      "outputs": []
    },
    {
      "cell_type": "markdown",
      "metadata": {
        "id": "e-mDzu5YtvkQ"
      },
      "source": [
        "Wygląda na to, że warto bliżej przyjrzeć się danym dotyczącym roku 2012."
      ]
    },
    {
      "cell_type": "code",
      "metadata": {
        "id": "-KwSGxKXjH1s"
      },
      "source": [
        "poverty_data_one_year =  poverty_data[poverty_data[\"Year\"]==2012]\n",
        "poverty_data_one_year"
      ],
      "execution_count": null,
      "outputs": []
    },
    {
      "cell_type": "markdown",
      "metadata": {
        "id": "juF59Jl6s-Kw"
      },
      "source": [
        "W tym przypadku posiadamy pewne informacje dla 198 krajów. Zastanówmy się, jakich informacji najczęściej brakuje."
      ]
    },
    {
      "cell_type": "code",
      "metadata": {
        "id": "5jMGwF23swCW"
      },
      "source": [
        "poverty_data_one_year.isnull().sum()"
      ],
      "execution_count": null,
      "outputs": []
    },
    {
      "cell_type": "markdown",
      "metadata": {
        "id": "K_YRK-jYsjVs"
      },
      "source": [
        "Dalej wybierzmy rekordy dotyczące 2012 roku, w przypadku których posiadamy informację o **SIP Coverage**, **Share Extreme Poverty** i **Gov Expenditure Education**."
      ]
    },
    {
      "cell_type": "code",
      "metadata": {
        "id": "Ah4Eu0E3jtWS"
      },
      "source": [
        "selected = poverty_data[(poverty_data[\"Year\"]==2012)& (poverty_data[\"Share Extreme Poverty\"].isnull()==False) &\n",
        "                        (poverty_data[\"SIP Coverage\"].isnull()==False) & (poverty_data[\"Gov Expenditure Education\"].isnull()==False)\n",
        "]\n",
        "SIP_extreme_poverty = selected[[\"Country\",\"Continent\",\"SIP Coverage\", \"Share Extreme Poverty\",\"Gov Expenditure Education\"]]\n",
        "SIP_extreme_poverty"
      ],
      "execution_count": null,
      "outputs": []
    },
    {
      "cell_type": "markdown",
      "metadata": {
        "id": "bO51WyCkwVNq"
      },
      "source": [
        "#### Udział skrajnego ubóstwa w Afryce i Południowej Ameryce"
      ]
    },
    {
      "cell_type": "markdown",
      "metadata": {
        "id": "cS1nhaSI0eGY"
      },
      "source": [
        "Aby stworzyć porównanie dla dwóch kontynentów ze względu na **Share Extreme Poverty**, potrzebujemy skorzystać z odpowiedniego filtrowania.\n",
        "\n",
        "Ponieważ kontynent jest rozpoznawany jako kategoria, potrzebujemy również usunąć nieinteresujące nas w tym przypadku kategorie."
      ]
    },
    {
      "cell_type": "code",
      "metadata": {
        "id": "kLKdlFC3tFCO"
      },
      "source": [
        "share_extreme_poverty =  poverty_data[\n",
        "                                      (poverty_data[\"Share Extreme Poverty\"].isnull()==False) \n",
        "                                       & ((poverty_data[\"Continent\"]==\"Africa\")  | (poverty_data[\"Continent\"]==\"South America\"))\n",
        "                                      ][[\"Country\",\t\"Continent\", \"Year\", \"Share Extreme Poverty\"]]\n",
        "share_extreme_poverty[\"Continent\"] = share_extreme_poverty[\"Continent\"].cat.remove_unused_categories()\n",
        "share_extreme_poverty"
      ],
      "execution_count": null,
      "outputs": []
    },
    {
      "cell_type": "markdown",
      "metadata": {
        "id": "u8yJszhe1i-O"
      },
      "source": [
        "### Statystyki wybranych kontynentów"
      ]
    },
    {
      "cell_type": "markdown",
      "metadata": {
        "id": "C6UuEZF21tDP"
      },
      "source": [
        "Podobnie jak w powyższym przypadku, wybieramy cztery kontynenty, dla których będziemy potrzebowali stworzyć wizualizacje na zajęciach.\n",
        "\n",
        "Jednocześnie upewniamy się, że dosowaliśmy zakres kategorii, który powinien zostać wyświetlony na wykresie."
      ]
    },
    {
      "cell_type": "code",
      "metadata": {
        "id": "Cu0jgc4b74wx"
      },
      "source": [
        "selected_continents =  poverty_data[(poverty_data[\"Continent\"]==\"Africa\")  \n",
        "| (poverty_data[\"Continent\"]==\"Europe\")\n",
        "| (poverty_data[\"Continent\"]==\"Asia\")\n",
        "| (poverty_data[\"Continent\"]==\"North America\")\n",
        "                                      ]\n",
        "selected_continents[\"Continent\"] = selected_continents[\"Continent\"].cat.remove_unused_categories()\n",
        "selected_continents"
      ],
      "execution_count": null,
      "outputs": []
    },
    {
      "cell_type": "markdown",
      "metadata": {
        "id": "D_81BOqhun5A"
      },
      "source": [
        "## Zadania"
      ]
    }
  ]
}
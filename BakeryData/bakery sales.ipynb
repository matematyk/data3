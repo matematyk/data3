{
  "nbformat": 4,
  "nbformat_minor": 0,
  "metadata": {
    "colab": {
      "name": "bakery sales1.ipynb",
      "provenance": [],
      "collapsed_sections": []
    },
    "kernelspec": {
      "name": "python3",
      "display_name": "Python 3"
    },
    "language_info": {
      "name": "python"
    }
  },
  "cells": [
    {
      "cell_type": "code",
      "metadata": {
        "id": "zcHCgKrdpzep"
      },
      "source": [
        "import pandas as pd\n",
        "import seaborn as sns\n",
        "from google.colab import drive"
      ],
      "execution_count": null,
      "outputs": []
    },
    {
      "cell_type": "markdown",
      "metadata": {
        "id": "amHNr7dBcoo0"
      },
      "source": [
        "## Sprzedaż w piekarni The Bread Basket"
      ]
    },
    {
      "cell_type": "markdown",
      "metadata": {
        "id": "yu_kx6yurCMx"
      },
      "source": [
        "\n",
        "\n",
        "W tym zeszycie zajmiemy się wizualizacją danych dotyczących sprzedaży w latach 2016-2017 w piekarni *The Bread Basket* w Edynburgu.\n",
        "\n",
        "Dane pochodzą ze zbioru udostępnionego [na stronie kaggle](https://www.kaggle.com/akashdeepkuila/bakery) w ramach licencji *CC0*.\n",
        "\n",
        "Zapoznajmy się z materiałem dostępnym w notebooku i na podstawie instrukcji przygotujmy dane, które będą potrzebne podczas zajęć.\n",
        "\n",
        "**Uwaga.** Wracając do dokumentu, pamiętaj o ponownym wywołaniu komórek z kodem."
      ]
    },
    {
      "cell_type": "markdown",
      "metadata": {
        "id": "GDtYniklctWI"
      },
      "source": [
        "### Zawartość zbioru danych"
      ]
    },
    {
      "cell_type": "markdown",
      "metadata": {
        "id": "QXCSzpZacxOt"
      },
      "source": [
        "W zaimportowanym niżej pliku **bakery_sales.csv** znajduje się 20 507 pozycji przypisanych do 9 684 transakcji klientów z informacjami o:\n",
        "\n",
        "\n",
        "*   **TransactionNo** - numerze transakcji\n",
        "*   **Items** - zakupionym produkcie\n",
        "*   **DateTime** - czasie transakcji\n",
        "*   **Daypart** - porze dnia (rano, po południu, wieczorem, w nocy)\n",
        "*   **DayType** - typ dnia (dzień roboczy vs weekend)."
      ]
    },
    {
      "cell_type": "markdown",
      "metadata": {
        "id": "PuUlipO5tPgw"
      },
      "source": [
        "Potrzebne nam dane zostały udostępnione wraz z dokumentem - poniższy kod importuje potrzebne pliki."
      ]
    },
    {
      "cell_type": "code",
      "metadata": {
        "id": "HtFv230NtYQ5"
      },
      "source": [
        "drive.mount('/content/drive')"
      ],
      "execution_count": null,
      "outputs": []
    },
    {
      "cell_type": "markdown",
      "metadata": {
        "id": "JoW4s4OstlNS"
      },
      "source": [
        "Dane importujemy do ramki danych pandas, dzięki czemu będziemy mogli sprawnie pracować nad ich wizualizacją."
      ]
    },
    {
      "cell_type": "code",
      "metadata": {
        "id": "SlF-tcvntjif"
      },
      "source": [
        "bakery_data = pd.read_csv('/content/drive/My Drive/Vis/Bakery Data/bakery_sales.csv')\n",
        "bakery_data"
      ],
      "execution_count": null,
      "outputs": []
    },
    {
      "cell_type": "markdown",
      "metadata": {
        "id": "6uBGMv_UdAdd"
      },
      "source": [
        "## Przygotowanie zeszytu"
      ]
    },
    {
      "cell_type": "markdown",
      "metadata": {
        "id": "_bjmNcUudBv7"
      },
      "source": [
        "Na początku chcemy upewnić się, że dane zostały poprawnie rozpoznane i dokonać potrzebnych konwersji.\n",
        "\n",
        "Na podstawie poglądu danych powyżej spodziewamy się, że pierwsza kolumna zawiera informację w postaci kolejnych liczb całkowitych, w kolumnie drugiej znajdziemy nazwy różnych sprzedawanych produktów, kolumna trzecia powinna zawierać dane rozpoznane jako data z czasem, zaś ostatnie dwie kolumny powinny zawierać informacje w postaci tekstowej."
      ]
    },
    {
      "cell_type": "markdown",
      "metadata": {
        "id": "7SwogOhlf8ED"
      },
      "source": [
        "### Sprawdzenie typów danych"
      ]
    },
    {
      "cell_type": "markdown",
      "metadata": {
        "id": "VvhK3R-VkUd5"
      },
      "source": [
        "Poniżej potrzebujemy wykonać dołączone instrukcje, aby otrzymać ramki danych wykorzystywane na zajęciach."
      ]
    },
    {
      "cell_type": "markdown",
      "metadata": {
        "id": "6_tetvvaJnrH"
      },
      "source": [
        "Na początek sprawdźmy jak zostały rozpoznane dane podczas importu."
      ]
    },
    {
      "cell_type": "code",
      "metadata": {
        "id": "7nKkIMZZgBSR"
      },
      "source": [
        "bakery_data.dtypes"
      ],
      "execution_count": null,
      "outputs": []
    },
    {
      "cell_type": "markdown",
      "metadata": {
        "id": "ROte86Mlke19"
      },
      "source": [
        "Upewnijmy się, czy w danych znajdują się rekordy, dla których brakuje informacji w którejkolwiek z kolumn."
      ]
    },
    {
      "cell_type": "code",
      "metadata": {
        "id": "vC3D6-GMjlM1"
      },
      "source": [
        "\"complete records: \" + str(len(bakery_data.dropna(how=\"any\"))) + \"; total records: \" + str(len(bakery_data))"
      ],
      "execution_count": null,
      "outputs": []
    },
    {
      "cell_type": "markdown",
      "metadata": {
        "id": "U7ZVMbRUceZj"
      },
      "source": [
        "Przyjrzymy się jeszcze temu, jakie dane faktycznie ukrywają się pod typem **object** w przypadku każdej z kolumn."
      ]
    },
    {
      "cell_type": "code",
      "metadata": {
        "id": "9n54vfg2gQgn"
      },
      "source": [
        "for column in bakery_data.columns:\n",
        "  check_types = bakery_data[column].apply(lambda x: type(x))\n",
        "  print(check_types.value_counts())"
      ],
      "execution_count": null,
      "outputs": []
    },
    {
      "cell_type": "markdown",
      "metadata": {
        "id": "800icOcr_4Fn"
      },
      "source": [
        "#### Konwersja daty"
      ]
    },
    {
      "cell_type": "markdown",
      "metadata": {
        "id": "BqHvg4O9ktXb"
      },
      "source": [
        "W przypadku czasu transakcji domyślnie jest ona identyfikowana jako *string*.\n",
        "\n",
        "Zamieńmy dane w kolumnie **DateTime** na  *timestamp*."
      ]
    },
    {
      "cell_type": "code",
      "metadata": {
        "id": "iHZLsw6LlAZr"
      },
      "source": [
        "bakery_data[\"DateTime\"] = pd.to_datetime(bakery_data[\"DateTime\"])"
      ],
      "execution_count": null,
      "outputs": []
    },
    {
      "cell_type": "markdown",
      "metadata": {
        "id": "flVAzownJ3Tc"
      },
      "source": [
        "Dodajmy nową kolumnę z datą transakcji o nazwie **Date** i sprawdźmy poprawność konwersji."
      ]
    },
    {
      "cell_type": "code",
      "metadata": {
        "id": "Qu7S9J6xhonQ"
      },
      "source": [
        "bakery_data[\"Date\"] = bakery_data[\"DateTime\"].dt.date"
      ],
      "execution_count": null,
      "outputs": []
    },
    {
      "cell_type": "code",
      "metadata": {
        "id": "uoHr-RjR12zw"
      },
      "source": [
        "bakery_data[\"Date\"].value_counts()"
      ],
      "execution_count": null,
      "outputs": []
    },
    {
      "cell_type": "markdown",
      "metadata": {
        "id": "dQDBmrzVweYy"
      },
      "source": [
        "Ponieważ nie będziemy wykorzystywać informacji o czasie, pozostawmy w **bakery_data** jedynie kolumnę z datą."
      ]
    },
    {
      "cell_type": "code",
      "metadata": {
        "id": "OIEOHUZrwwNm"
      },
      "source": [
        "bakery_data = bakery_data[[\"TransactionNo\", \"Items\", \"Date\", \"Daypart\", \"DayType\"]]\n",
        "bakery_data"
      ],
      "execution_count": null,
      "outputs": []
    },
    {
      "cell_type": "markdown",
      "metadata": {
        "id": "1giWuV7hknZ4"
      },
      "source": [
        "#### Przypisanie kategorii bazując na liczbie sprzedanych produktów"
      ]
    },
    {
      "cell_type": "markdown",
      "metadata": {
        "id": "oXRX2shkliaa"
      },
      "source": [
        "Przyjrzymy się bliżej zawartości kolumny **Items**."
      ]
    },
    {
      "cell_type": "code",
      "metadata": {
        "id": "XJlBaQQTlgsn"
      },
      "source": [
        "bakery_data[\"Items\"].value_counts()"
      ],
      "execution_count": null,
      "outputs": []
    },
    {
      "cell_type": "markdown",
      "metadata": {
        "id": "VWXfpO6DlngD"
      },
      "source": [
        "Widzimy, że w badanym okresie sprzedano wiele produktów z różną częstotliwością.\n",
        "\n",
        "Wprowadzimy kategoryzację, dodając kolumnę **Item Categories**, która pozwoli nam wyróżnić 5 najpopularniejszych produktów, zaś pozostałym przypisać kategorię *Other*."
      ]
    },
    {
      "cell_type": "code",
      "metadata": {
        "id": "4zs320Q4kskY"
      },
      "source": [
        "product_categories = list(bakery_data[\"Items\"].value_counts().index)[0:5]\n",
        "product_categories.append(\"Other\")\n",
        "product_categories\n",
        "bakery_data[\"Item Categories\"] = pd.Series(pd.Categorical(bakery_data[\"Items\"], categories=product_categories)).fillna(\"Other\")\n",
        "bakery_data"
      ],
      "execution_count": null,
      "outputs": []
    },
    {
      "cell_type": "markdown",
      "metadata": {
        "id": "2LWL0kTCpWcG"
      },
      "source": [
        "#### Konwersja pory dnia do kategorii"
      ]
    },
    {
      "cell_type": "markdown",
      "metadata": {
        "id": "TNd8veZAKlMR"
      },
      "source": [
        "Przyjrzymy się bliżej zawartości kolumny **Daypart**."
      ]
    },
    {
      "cell_type": "code",
      "metadata": {
        "id": "-QhKOrhKpa73"
      },
      "source": [
        "bakery_data[\"Daypart\"].value_counts()"
      ],
      "execution_count": null,
      "outputs": []
    },
    {
      "cell_type": "markdown",
      "metadata": {
        "id": "b2JnZ-XEKqOl"
      },
      "source": [
        "W przypadku tej kolumny lista kategorii jest krótka - zależy nam jedynie, by na wizualizacji kolejność pór dnia odzwierciedlała ich kolejność występowania.\n",
        "\n",
        "Zdefiniujemy nową kolumnę **Day Part** i ustalimy właściwą kolejność kategorii i zastąpimy nią dotychczasową kolumnę **Daypart**."
      ]
    },
    {
      "cell_type": "code",
      "metadata": {
        "id": "PDc76LOmpivJ"
      },
      "source": [
        "bakery_data[\"Day Part\"] = pd.Series(pd.Categorical(bakery_data[\"Daypart\"], categories=[\"Morning\", \"Afternoon\", \"Evening\", \"Night\"]))\n",
        "bakery_data = bakery_data[[\"TransactionNo\", \"Items\", \"Date\", \"Day Part\", \"DayType\", \"Item Categories\"]]\n",
        "bakery_data"
      ],
      "execution_count": null,
      "outputs": []
    },
    {
      "cell_type": "markdown",
      "metadata": {
        "id": "tWcawmFDqNXH"
      },
      "source": [
        "#### Konwersja typu dnia do kategorii"
      ]
    },
    {
      "cell_type": "markdown",
      "metadata": {
        "id": "JBuzp8rWLmNR"
      },
      "source": [
        "Przyjrzyjmy się bliżej zawartości kolumny **Day Type**."
      ]
    },
    {
      "cell_type": "code",
      "metadata": {
        "id": "-7tZj9cNqT0P"
      },
      "source": [
        "bakery_data[\"DayType\"].value_counts()"
      ],
      "execution_count": null,
      "outputs": []
    },
    {
      "cell_type": "markdown",
      "metadata": {
        "id": "Gbp4kNDSLv4f"
      },
      "source": [
        "Podobnie jak w przypadku pory dnia, lista kategorii jest krótka - przygotujemy nową kolumnę **Day Type** w analogiczny sposób i usuniemy niepotrzebną kolumnę z zestawienia."
      ]
    },
    {
      "cell_type": "code",
      "metadata": {
        "id": "XZSbhQ2uq9fq"
      },
      "source": [
        "bakery_data[\"Day Type\"] = pd.Series(pd.Categorical(bakery_data[\"DayType\"], categories=[\"Weekday\", \"Weekend\"]))\n",
        "bakery_data = bakery_data[[\"TransactionNo\", \"Items\", \"Date\", \"Day Part\",\"Day Type\", \"Item Categories\"]]\n",
        "bakery_data"
      ],
      "execution_count": null,
      "outputs": []
    },
    {
      "cell_type": "markdown",
      "metadata": {
        "id": "LUJu0fjmzpHl"
      },
      "source": [
        "### Stworzenie ramek danych wykorzystywanych w wizualizacji"
      ]
    },
    {
      "cell_type": "markdown",
      "metadata": {
        "id": "nKeJjrMJzuZG"
      },
      "source": [
        "Poza samym zbiorem **bakery_data** na zajęciach będziemy potrzebowali jeszcze kilku perspektyw dla celów wizualizacji."
      ]
    },
    {
      "cell_type": "markdown",
      "metadata": {
        "id": "vBe3aL2jz82N"
      },
      "source": [
        "#### Statystyki dzienne"
      ]
    },
    {
      "cell_type": "markdown",
      "metadata": {
        "id": "A5XaF-_z-dAX"
      },
      "source": [
        "Poniżej liczymy ile produktów i w ramach ilu transacji kupowano dziennie z podziałem na typ dnia."
      ]
    },
    {
      "cell_type": "code",
      "metadata": {
        "id": "5LC4aCd50Fct"
      },
      "source": [
        "items_daily = bakery_data[[\"Date\",\"Day Type\", \"Items\"]].groupby([\"Date\", \"Day Type\"]).count()\n",
        "transactions_daily = bakery_data[[\"Date\",\"Day Type\", \"TransactionNo\"]].groupby([\"Date\", \"Day Type\"]).nunique()\n",
        "daytype_statistics_daily = pd.merge(items_daily, transactions_daily, on=[\"Date\", \"Day Type\"])\n",
        "daytype_statistics_daily"
      ],
      "execution_count": null,
      "outputs": []
    },
    {
      "cell_type": "markdown",
      "metadata": {
        "id": "BeJUyKpE-q19"
      },
      "source": [
        "Poniżej liczymy ile produktów i w ramach ilu transacji kupowano dziennie z podziałem na porę dnia."
      ]
    },
    {
      "cell_type": "code",
      "metadata": {
        "id": "v4cGsRBa9_QL"
      },
      "source": [
        "items_daily = bakery_data[[\"Date\",\"Day Part\", \"Items\"]].groupby([\"Date\", \"Day Part\"]).count()\n",
        "transactions_daily = bakery_data[[\"Date\",\"Day Part\", \"TransactionNo\"]].groupby([\"Date\", \"Day Part\"]).nunique()\n",
        "daypart_statistics_daily = pd.merge(items_daily, transactions_daily, on=[\"Date\", \"Day Part\"])\n",
        "daypart_statistics_daily"
      ],
      "execution_count": null,
      "outputs": []
    },
    {
      "cell_type": "markdown",
      "metadata": {
        "id": "eWs2Miyj-zdD"
      },
      "source": [
        "#### Statystyki kategorii"
      ]
    },
    {
      "cell_type": "markdown",
      "metadata": {
        "id": "FWt8QxEtMOTq"
      },
      "source": [
        "Na koniec zwracamy jeszcze liczbę produktów zakupionych w ramach transakcji z informacją o porze i typie dnia."
      ]
    },
    {
      "cell_type": "code",
      "metadata": {
        "id": "tOlmnEj7-34M"
      },
      "source": [
        "items_count = bakery_data[[\"TransactionNo\", \"Items\"]].groupby([\"TransactionNo\"]).count()\n",
        "transactions_data = pd.merge(pd.DataFrame(bakery_data[[\"TransactionNo\", \"Day Type\", \"Day Part\"]].drop_duplicates()), items_count, on=\"TransactionNo\")\n",
        "transactions_data"
      ],
      "execution_count": null,
      "outputs": []
    },
    {
      "cell_type": "markdown",
      "metadata": {
        "id": "bKC2RZl71xif"
      },
      "source": [
        "## Zadania"
      ]
    }
  ]
}